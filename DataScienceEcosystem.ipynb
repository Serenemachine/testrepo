{
 "cells": [
  {
   "cell_type": "markdown",
   "id": "ed4efd42-956c-407a-92c5-70051949b1c4",
   "metadata": {},
   "source": [
    "# Data Science Tools and Ecosystem"
   ]
  },
  {
   "cell_type": "markdown",
   "id": "f7c13a56-042f-4f0b-9b65-0bb5bb3c5619",
   "metadata": {},
   "source": [
    "In this notebook, Data Science Tools and Ecosystem are summarized."
   ]
  },
  {
   "cell_type": "markdown",
   "id": "f18b04b9-5284-4be9-9e4d-156d14f33b7d",
   "metadata": {},
   "source": [
    "**Objectives:**\n",
    "1. List popular languages for data science\n",
    "2. List commonly used libraries for data science\n",
    "3. List some popular data science tools"
   ]
  },
  {
   "cell_type": "markdown",
   "id": "3f2c30b6-479c-4d64-8f06-fd65e63b01a3",
   "metadata": {},
   "source": [
    "## Author\n",
    "Anthony Doyle"
   ]
  },
  {
   "cell_type": "markdown",
   "id": "d5793315-e5ba-48a3-99ff-7011862bdb5a",
   "metadata": {},
   "source": [
    "Some of the popular languages that Data Scientists use are:"
   ]
  },
  {
   "cell_type": "markdown",
   "id": "2fb4266d-084f-4fc7-ac8e-f7c13be20665",
   "metadata": {},
   "source": [
    "1. Python\n",
    "2. SQL\n",
    "3. R"
   ]
  },
  {
   "cell_type": "markdown",
   "id": "7b9d7b95-c7ef-44e4-b8ac-8d12f3e2360e",
   "metadata": {},
   "source": [
    "Some of the commonly used libraries used by Data Scientists include:"
   ]
  },
  {
   "cell_type": "markdown",
   "id": "d7440fff-5d89-4b2e-8bbd-922ac5f5ebcc",
   "metadata": {},
   "source": [
    "1. Pandas\n",
    "2. NumPy\n",
    "3. Matplotlib"
   ]
  },
  {
   "cell_type": "markdown",
   "id": "e267d8dc-881a-4f96-97bf-698c202b4b40",
   "metadata": {},
   "source": [
    "|Data Science Tools|\n",
    "|--------------------|\n",
    "|RStudio|\n",
    "|Jupyter Notebook|\n",
    "|TensorFlow|"
   ]
  },
  {
   "cell_type": "markdown",
   "id": "3aef155b-547c-41e6-be12-e6258b636cbc",
   "metadata": {},
   "source": [
    "### Below are a few examples of evaluating arithmetic expressions in Python"
   ]
  },
  {
   "cell_type": "code",
   "execution_count": 3,
   "id": "efdbb9af-2fc3-414e-87da-56bc5680db65",
   "metadata": {},
   "outputs": [
    {
     "data": {
      "text/plain": [
       "17"
      ]
     },
     "execution_count": 3,
     "metadata": {},
     "output_type": "execute_result"
    }
   ],
   "source": [
    "# This a simple arithmetic expression to mutiply then add integers\n",
    "(3*4)+5"
   ]
  },
  {
   "cell_type": "code",
   "execution_count": 4,
   "id": "14643818-a4a9-4950-b3fe-e8a7ef028dd9",
   "metadata": {},
   "outputs": [
    {
     "data": {
      "text/plain": [
       "3.3333333333333335"
      ]
     },
     "execution_count": 4,
     "metadata": {},
     "output_type": "execute_result"
    }
   ],
   "source": [
    "#This will convert 200 minutes to hours by diving by 60\n",
    "200/60"
   ]
  }
 ],
 "metadata": {
  "kernelspec": {
   "display_name": "Python 3 (ipykernel)",
   "language": "python",
   "name": "python3"
  },
  "language_info": {
   "codemirror_mode": {
    "name": "ipython",
    "version": 3
   },
   "file_extension": ".py",
   "mimetype": "text/x-python",
   "name": "python",
   "nbconvert_exporter": "python",
   "pygments_lexer": "ipython3",
   "version": "3.10.2"
  }
 },
 "nbformat": 4,
 "nbformat_minor": 5
}
